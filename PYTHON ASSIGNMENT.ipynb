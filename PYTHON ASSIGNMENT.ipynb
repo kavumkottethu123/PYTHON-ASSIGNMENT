{
 "cells": [
  {
   "cell_type": "markdown",
   "id": "78ed1c02",
   "metadata": {},
   "source": [
    "### 1. Check if the given string is a palindrome or not irrespective of case."
   ]
  },
  {
   "cell_type": "code",
   "execution_count": 1,
   "id": "07589a47",
   "metadata": {},
   "outputs": [
    {
     "name": "stdout",
     "output_type": "stream",
     "text": [
      "Enter a string:NAAN\n",
      "The string is a palindrome\n"
     ]
    }
   ],
   "source": [
    "#Enter input string\n",
    "string= input(\"Enter a string:\")\n",
    "#Check whether the string is palindrome or not.Here, first find the reversed string and then compare with the original string.\n",
    "#if string matches then it is palindrome else not palindrome.\n",
    "if(string==string[::-1]):\n",
    "    print(\"The string is a palindrome\")\n",
    "else:\n",
    "    print(\"The string is not a palindrome\")"
   ]
  },
  {
   "cell_type": "markdown",
   "id": "a1ebdc48",
   "metadata": {},
   "source": [
    "### 2. The user enters a string and a substring. You have to print the number of times that the substring occurs in the given string. String traversal will take place from left to right, not from right to left.  \n",
    "NOTE: String letters are case-sensitive. The first line of input contains the original string. The next line contains the substring."
   ]
  },
  {
   "cell_type": "code",
   "execution_count": 2,
   "id": "0176ddb2",
   "metadata": {},
   "outputs": [
    {
     "name": "stdout",
     "output_type": "stream",
     "text": [
      "2\n"
     ]
    }
   ],
   "source": [
    "#Enter input string\n",
    "input_str = 'ABCDCDC'\n",
    "#Enter substring\n",
    "pattern = 'CD'\n",
    "print(input_str.count(pattern))  #output print the number of times that the substring occurs in the given string."
   ]
  },
  {
   "cell_type": "markdown",
   "id": "6704e508",
   "metadata": {},
   "source": [
    "###  3. Create a basic rock paper scissors game.\n",
    "Take 2 user inputs from 2 players. You can use R, P and S are possible user inputs. Play the game for 10 rounds and declare the winner.\n",
    "Rules of the game: \n",
    "Rock vs Scissors - Rock wins \n",
    "Rock vs Paper - Paper wins\n",
    "Paper vs Scissors - Scissor wins \n",
    "Eg: Game 1: Player1 = R, Player2 = S, Output: Player1 wins \n",
    "Player1 = P, Player2 = P, Output: Draw\n",
    "Final Winner: Player with maximum wins"
   ]
  },
  {
   "cell_type": "code",
   "execution_count": 3,
   "id": "8f5c31bf",
   "metadata": {},
   "outputs": [],
   "source": [
    "# Function that returns 1 if firstplayer wins, 0 in case of a draw and -1 if second player wins.\n",
    "def compare(first, second):\n",
    " \n",
    "    # If both players have the same move then it's a draw\n",
    "    if (first == second):\n",
    "        return 0\n",
    " \n",
    "    if (first == 'R'):\n",
    "        if (second == 'S'):\n",
    "            return 1\n",
    "        else:\n",
    "            return -1\n",
    "     \n",
    "    if (first == 'P'):\n",
    "        if (second == 'R'):\n",
    "            return 1\n",
    "        else:\n",
    "            return -1\n",
    "     \n",
    "    if (first == 'S'):\n",
    "        if (second == 'P'):\n",
    "            return 1\n",
    "        else:\n",
    "            return -1\n",
    "# Function that returns the count of games won by both the players\n",
    "def countWins(k, a, b):\n",
    " \n",
    "    n = len(a)\n",
    "    m = len(b)\n",
    "    i = 0\n",
    "    j = 0\n",
    "    # Total distinct games thatcan be played\n",
    "    moves = n * m\n",
    "    wins = [ 0, 0 ]\n",
    "     \n",
    "    while (moves > 0):\n",
    "        res = compare(a[i], b[j])\n",
    " \n",
    "        # Player 1 wins the current game\n",
    "        if (res == 1):\n",
    "            wins[0] += 1\n",
    " \n",
    "        # Player 2 wins the current game\n",
    "        if (res == -1):\n",
    "            wins[1] += 1\n",
    "             \n",
    "        i = (i + 1) % n\n",
    "        j = (j + 1) % m\n",
    "        moves -= 1\n",
    "        # Number of times the above n * m games repeat\n",
    "    repeat = k // (n * m)\n",
    " \n",
    "    # Update the games won\n",
    "    wins[0] *= repeat\n",
    "    wins[1] *= repeat\n",
    "    # Remaining number of games after removing repeated games\n",
    "    rem = k % (n * m)\n",
    "    while (rem > 0):\n",
    "        res = compare(a[i], b[j])\n",
    " \n",
    "        # Player 1 wins the current game\n",
    "        if (res == 1):\n",
    "            wins[0] += 1\n",
    " \n",
    "        # Player 2 wins the current game\n",
    "        if (res == -1):\n",
    "            wins[1] += 1\n",
    "             \n",
    "        i = (i + 1) % n\n",
    "        j = (j + 1) % m\n",
    "         \n",
    "    return wins\n",
    " \n",
    " "
   ]
  },
  {
   "cell_type": "code",
   "execution_count": 4,
   "id": "7902f3ca",
   "metadata": {},
   "outputs": [
    {
     "name": "stdout",
     "output_type": "stream",
     "text": [
      "0 2\n"
     ]
    }
   ],
   "source": [
    "if __name__ == \"__main__\":\n",
    "     \n",
    "    k = 4\n",
    "    a = \"SR\"\n",
    "    b = \"R\"\n",
    "     \n",
    "    wins = countWins(k, a, b);\n",
    "     \n",
    "    print(wins[0], wins[1])"
   ]
  },
  {
   "cell_type": "markdown",
   "id": "97e160e6",
   "metadata": {},
   "source": [
    "### 4. The below API print the price of Bitcoin in USD and GBP \n",
    "https://api.coindesk.com/v1/bpi/currentprice.json\n",
    "• Collect data from this API for 1 day at 5 minutes interval. I.e you will have at least \n",
    "288 unique data points. Consecutive data points should not have same value.\n",
    "• Find the highest and lowest price of bitcoin from the collected data, without using minimum \n",
    "or maximum functions"
   ]
  },
  {
   "cell_type": "code",
   "execution_count": 5,
   "id": "46a56fcd",
   "metadata": {},
   "outputs": [
    {
     "name": "stdout",
     "output_type": "stream",
     "text": [
      "{'time': {'updated': 'Jan 15, 2023 16:34:00 UTC', 'updatedISO': '2023-01-15T16:34:00+00:00', 'updateduk': 'Jan 15, 2023 at 16:34 GMT'}, 'disclaimer': 'This data was produced from the CoinDesk Bitcoin Price Index (USD). Non-USD currency data converted using hourly conversion rate from openexchangerates.org', 'chartName': 'Bitcoin', 'bpi': {'USD': {'code': 'USD', 'symbol': '&#36;', 'rate': '20,866.9455', 'description': 'United States Dollar', 'rate_float': 20866.9455}, 'GBP': {'code': 'GBP', 'symbol': '&pound;', 'rate': '17,436.2527', 'description': 'British Pound Sterling', 'rate_float': 17436.2527}, 'EUR': {'code': 'EUR', 'symbol': '&euro;', 'rate': '20,327.4515', 'description': 'Euro', 'rate_float': 20327.4515}}}\n"
     ]
    }
   ],
   "source": [
    "import requests\n",
    "response = requests.get('https://api.coindesk.com/v1/bpi/currentprice.json')\n",
    "data = response.json()\n",
    "print(data)"
   ]
  },
  {
   "cell_type": "code",
   "execution_count": 6,
   "id": "39d600a8",
   "metadata": {},
   "outputs": [
    {
     "name": "stdout",
     "output_type": "stream",
     "text": [
      "{'USD': {'code': 'USD', 'symbol': '&#36;', 'rate': '20,866.9455', 'description': 'United States Dollar', 'rate_float': 20866.9455}, 'GBP': {'code': 'GBP', 'symbol': '&pound;', 'rate': '17,436.2527', 'description': 'British Pound Sterling', 'rate_float': 17436.2527}, 'EUR': {'code': 'EUR', 'symbol': '&euro;', 'rate': '20,327.4515', 'description': 'Euro', 'rate_float': 20327.4515}}\n"
     ]
    }
   ],
   "source": [
    "print(data[\"bpi\"])"
   ]
  },
  {
   "cell_type": "code",
   "execution_count": 7,
   "id": "7a0915bf",
   "metadata": {},
   "outputs": [
    {
     "name": "stdout",
     "output_type": "stream",
     "text": [
      "20,866.9455\n"
     ]
    }
   ],
   "source": [
    " print(data[\"bpi\"][\"USD\"][\"rate\"])"
   ]
  },
  {
   "cell_type": "code",
   "execution_count": 8,
   "id": "5e30908f",
   "metadata": {},
   "outputs": [
    {
     "name": "stdout",
     "output_type": "stream",
     "text": [
      "17,436.2527\n"
     ]
    }
   ],
   "source": [
    "print(data[\"bpi\"][\"GBP\"][\"rate\"])"
   ]
  },
  {
   "cell_type": "markdown",
   "id": "58369c3b",
   "metadata": {},
   "source": [
    "SUBMITTED BY: LISA SHAJI"
   ]
  }
 ],
 "metadata": {
  "kernelspec": {
   "display_name": "Python 3",
   "language": "python",
   "name": "python3"
  },
  "language_info": {
   "codemirror_mode": {
    "name": "ipython",
    "version": 3
   },
   "file_extension": ".py",
   "mimetype": "text/x-python",
   "name": "python",
   "nbconvert_exporter": "python",
   "pygments_lexer": "ipython3",
   "version": "3.8.8"
  }
 },
 "nbformat": 4,
 "nbformat_minor": 5
}
